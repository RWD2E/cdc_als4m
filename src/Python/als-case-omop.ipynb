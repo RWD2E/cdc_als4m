{
 "cells": [
  {
   "cell_type": "code",
   "execution_count": null,
   "metadata": {
    "vscode": {
     "languageId": "plaintext"
    }
   },
   "outputs": [],
   "source": [
    "import numpy as np\n",
    "import pandas as pd\n",
    "import json\n",
    "import urllib.request as urlreq\n",
    "import os\n",
    "from pyspark.ml.feature import VectorAssembler, StringIndexer, OneHotEncoder\n",
    "from pyspark.ml.regression import GeneralizedLinearRegression\n",
    "from pyspark.sql.functions import col, count, mean, sum, avg, stddev, min, max, lit\n",
    "from pyspark.ml.stat import Summarizer\n",
    "from pyspark.ml.classification import LogisticRegression"
   ]
  },
  {
   "cell_type": "code",
   "execution_count": null,
   "metadata": {
    "vscode": {
     "languageId": "plaintext"
    }
   },
   "outputs": [],
   "source": [
    "spark.sql(\"use real_world_data_ed_omop_aug_2024\")"
   ]
  },
  {
   "cell_type": "code",
   "execution_count": null,
   "metadata": {
    "vscode": {
     "languageId": "plaintext"
    }
   },
   "outputs": [],
   "source": [
    "def json_to_qry(url_to_json):\n",
    "    json_url = urlreq.urlopen(url_to_json)\n",
    "    json_file = json.loads(json_url.read())\n",
    "    qry_lst = []\n",
    "    def add_quote(lst):\n",
    "        lst_quote = [\"'\"+str(x)+\"'\" for x in lst]\n",
    "        return (lst_quote)\n",
    "    for k,v in json_file.items():\n",
    "        for cd,sig in v.items():\n",
    "            if cd=='long': continue\n",
    "            # entail the range\n",
    "            if 'range' in sig:\n",
    "                for x in sig['range']:\n",
    "                    key_quote = [str(y) for y in list(range(int(x.split('-')[0]),int(x.split('-')[1])+1))]\n",
    "                    sig['exact'].extend(key_quote)\n",
    "\n",
    "            # generate dynamic queries\n",
    "            qry = '''\n",
    "                select ''' + \"'\" + k + \"'\" + ''' as CD_GRP, \n",
    "                       ''' + \"'\" + v['long'] + \"'\" + ''' as CD_GRP_LONG,\n",
    "                       concept_id,concept_name,concept_code,vocabulary_id,domain_id\n",
    "                from concept\n",
    "                where vocabulary_id = '''+ \"'\" + cd.upper() + \"'\" +''' and\n",
    "            '''\n",
    "            if 'icd' in cd and 'pcs' not in cd:\n",
    "                where_lev0 = '''substring_index(concept_code,'.',1) in ('''+ ','.join(add_quote(sig['lev0'])) +''')''' if sig['lev0'] else None\n",
    "                where_lev1 = '''substring(concept_code,1,5) in ('''+ ','.join(add_quote(sig['lev1'])) +''')''' if sig['lev1'] else None\n",
    "                where_lev2 = '''substring(concept_code,1,6) in ('''+ ','.join(add_quote(sig['lev2'])) +''')''' if sig['lev2'] else None\n",
    "                where_nonempty = [s for s in [where_lev0,where_lev1,where_lev2] if s is not None]\n",
    "\n",
    "                qry += '''\n",
    "                (\n",
    "                     ''' + ' or '.join(where_nonempty) + '''  \n",
    "                )         \n",
    "                '''\n",
    "            else:\n",
    "                qry += '''\n",
    "                (\n",
    "                     concept_code in ('''+ ','.join(add_quote(sig['exact'])) +''')\n",
    "                )         \n",
    "                '''\n",
    "            qry_lst.append(qry)\n",
    "            \n",
    "    return qry_lst"
   ]
  },
  {
   "cell_type": "code",
   "execution_count": null,
   "metadata": {
    "vscode": {
     "languageId": "plaintext"
    }
   },
   "outputs": [],
   "source": []
  },
  {
   "cell_type": "code",
   "execution_count": null,
   "metadata": {
    "vscode": {
     "languageId": "plaintext"
    }
   },
   "outputs": [],
   "source": []
  },
  {
   "cell_type": "code",
   "execution_count": null,
   "metadata": {
    "vscode": {
     "languageId": "plaintext"
    }
   },
   "outputs": [],
   "source": []
  },
  {
   "cell_type": "code",
   "execution_count": null,
   "metadata": {
    "vscode": {
     "languageId": "plaintext"
    }
   },
   "outputs": [],
   "source": []
  }
 ],
 "metadata": {
  "language_info": {
   "name": "python"
  }
 },
 "nbformat": 4,
 "nbformat_minor": 2
}
