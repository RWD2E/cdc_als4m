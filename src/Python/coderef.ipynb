{
 "cells": [
  {
   "cell_type": "code",
   "execution_count": null,
   "metadata": {
    "vscode": {
     "languageId": "plaintext"
    }
   },
   "outputs": [],
   "source": [
    "import pandas as pd\n",
    "import json\n",
    "import urllib.request as urlreq\n",
    "import os"
   ]
  },
  {
   "cell_type": "code",
   "execution_count": null,
   "metadata": {
    "vscode": {
     "languageId": "plaintext"
    }
   },
   "outputs": [],
   "source": [
    "def json_to_qry(url_to_json):\n",
    "    json_url = urlreq.urlopen(url_to_json)\n",
    "    json_file = json.loads(json_url.read())\n",
    "    qry_lst = []\n",
    "    def add_quote(lst):\n",
    "        lst_quote = [\"'\"+str(x)+\"'\" for x in lst]\n",
    "        return (lst_quote)\n",
    "    for k,v in json_file.items():\n",
    "        for cd,sig in v.items():\n",
    "            if cd=='long': continue\n",
    "            # entail the range\n",
    "            if 'range' in sig:\n",
    "                for x in sig['range']:\n",
    "                    key_quote = [str(y) for y in list(range(int(x.split('-')[0]),int(x.split('-')[1])+1))]\n",
    "                    sig['exact'].extend(key_quote)\n",
    "\n",
    "            # generate dynamic queries\n",
    "            qry = '''\n",
    "                select ''' + \"'\" + k + \"'\" + ''' as CD_GRP, \n",
    "                       ''' + \"'\" + v['long'] + \"'\" + ''' as CD_GRP_LONG,\n",
    "                       concept_id,concept_name,concept_code,vocabulary_id,domain_id\n",
    "                from concept\n",
    "                where vocabulary_id = '''+ \"'\" + cd.upper() + \"'\" +''' and\n",
    "            '''\n",
    "            if 'icd' in cd and 'pcs' not in cd:\n",
    "                where_lev0 = '''substring_index(concept_code,'.',1) in ('''+ ','.join(add_quote(sig['lev0'])) +''')''' if sig['lev0'] else None\n",
    "                where_lev1 = '''substring(concept_code,1,5) in ('''+ ','.join(add_quote(sig['lev1'])) +''')''' if sig['lev1'] else None\n",
    "                where_lev2 = '''substring(concept_code,1,6) in ('''+ ','.join(add_quote(sig['lev2'])) +''')''' if sig['lev2'] else None\n",
    "                where_nonempty = [s for s in [where_lev0,where_lev1,where_lev2] if s is not None]\n",
    "\n",
    "                qry += '''\n",
    "                (\n",
    "                     ''' + ' or '.join(where_nonempty) + '''  \n",
    "                )         \n",
    "                '''\n",
    "            else:\n",
    "                qry += '''\n",
    "                (\n",
    "                     concept_code in ('''+ ','.join(add_quote(sig['exact'])) +''')\n",
    "                )         \n",
    "                '''\n",
    "            qry_lst.append(qry)\n",
    "            \n",
    "    return qry_lst"
   ]
  },
  {
   "cell_type": "code",
   "execution_count": null,
   "metadata": {
    "vscode": {
     "languageId": "plaintext"
    }
   },
   "outputs": [],
   "source": [
    "# load delivery codes\n",
    "qry2_lst = json_to_qry('https://raw.githubusercontent.com/RWD2E/phecdm/main/res/valueset_curated/vs-mmm-comorb.json')\n",
    "\n",
    "qry2_final = ' union all '.join(qry2_lst)\n",
    "print(qry2_final)\n",
    "comorb_omop_cd = spark.sql(' union all '.join(qry2_lst)).toPandas()\n",
    "comorb_omop_cd.to_csv(os.path.join(path_to_data,'cd_meta_omop_comorb.csv'),index=False)\n",
    "\n",
    "# comorb_omop_meta = spark.sql(' union all '.join(qry2_lst)).cache()\n",
    "# comorb_omop_meta.createOrReplaceTempView(\"comorb_omop_meta\")\n",
    "# comorb_omop_meta.first()"
   ]
  },
  {
   "cell_type": "code",
   "execution_count": null,
   "metadata": {
    "vscode": {
     "languageId": "plaintext"
    }
   },
   "outputs": [],
   "source": [
    "# load SMM code list and get omop concept_id\n",
    "qry_lst = json_to_qry('https://raw.githubusercontent.com/RWD2E/phecdm/main/res/valueset_curated/vs-mmm.json')\n",
    "\n",
    "qry_final = ' union all '.join(qry_lst)\n",
    "print(qry_final)\n",
    "# smm_omop_cd = spark.sql(' union all '.join(qry_lst)).toPandas()\n",
    "# smm_omop_cd.to_csv(os.path.join(path_to_data,'cd_meta_omop_smm.csv'),index=False)\n",
    "\n",
    "# smm_omop_meta = spark.sql(' union all '.join(qry_lst)).cache()\n",
    "# smm_omop_meta.createOrReplaceTempView(\"smm_omop_meta\")\n",
    "# smm_omop_meta.first()"
   ]
  },
  {
   "cell_type": "code",
   "execution_count": null,
   "metadata": {
    "vscode": {
     "languageId": "plaintext"
    }
   },
   "outputs": [],
   "source": [
    "# load comorb code list and get omop concept_id\n",
    "qry2_lst = json_to_qry('https://raw.githubusercontent.com/RWD2E/phecdm/main/res/valueset_curated/vs-mmm-comorb.json')\n",
    "\n",
    "qry2_final = ' union all '.join(qry2_lst)\n",
    "print(qry2_final)\n",
    "comorb_omop_cd = spark.sql(' union all '.join(qry2_lst)).toPandas()\n",
    "comorb_omop_cd.to_csv(os.path.join(path_to_data,'cd_meta_omop_comorb.csv'),index=False)\n",
    "\n",
    "# comorb_omop_meta = spark.sql(' union all '.join(qry2_lst)).cache()\n",
    "# comorb_omop_meta.createOrReplaceTempView(\"comorb_omop_meta\")\n",
    "# comorb_omop_meta.first()"
   ]
  }
 ],
 "metadata": {
  "language_info": {
   "name": "python"
  }
 },
 "nbformat": 4,
 "nbformat_minor": 2
}
